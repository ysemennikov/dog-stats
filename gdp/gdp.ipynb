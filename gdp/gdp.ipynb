{
 "cells": [
  {
   "cell_type": "code",
   "execution_count": 5,
   "id": "6e0f7403",
   "metadata": {},
   "outputs": [],
   "source": [
    "import requests\n",
    "import pandas as pd\n",
    "import io"
   ]
  },
  {
   "cell_type": "code",
   "execution_count": 18,
   "id": "737abc8f",
   "metadata": {},
   "outputs": [],
   "source": [
    "response = requests.get(\"https://github.com/datasets/gdp/raw/refs/heads/main/data/gdp.csv\")\n",
    "\n",
    "df = pd.read_csv(io.StringIO(response.text))\n",
    "\n",
    "# only use data starting from 2014\n",
    "df = df[df['Year'] >= 2014]\n",
    "\n",
    "df.to_csv(\"gdp-stats.csv\", index=False)"
   ]
  }
 ],
 "metadata": {
  "kernelspec": {
   "display_name": "Python 3",
   "language": "python",
   "name": "python3"
  },
  "language_info": {
   "codemirror_mode": {
    "name": "ipython",
    "version": 3
   },
   "file_extension": ".py",
   "mimetype": "text/x-python",
   "name": "python",
   "nbconvert_exporter": "python",
   "pygments_lexer": "ipython3",
   "version": "3.12.1"
  }
 },
 "nbformat": 4,
 "nbformat_minor": 5
}
